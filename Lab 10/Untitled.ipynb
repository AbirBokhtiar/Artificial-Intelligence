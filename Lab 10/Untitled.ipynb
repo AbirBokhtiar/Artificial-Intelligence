{
 "cells": [
  {
   "cell_type": "markdown",
   "id": "1fc1429d",
   "metadata": {},
   "source": [
    "# N-Queen problem"
   ]
  },
  {
   "cell_type": "code",
   "execution_count": 60,
   "id": "97f4431f",
   "metadata": {},
   "outputs": [
    {
     "name": "stdout",
     "output_type": "stream",
     "text": [
      "Has Attack\n"
     ]
    }
   ],
   "source": [
    "from numpy import random\n",
    "\n",
    "def safe(board, row, col, n):\n",
    "    for c in range(col, -1, -1):\n",
    "        if(board[row][c])==1:\n",
    "            return False;\n",
    "    i = row\n",
    "    j = col\n",
    "    while(i >=0 and j >=0):\n",
    "        if(board[i][j])==1:\n",
    "            return False\n",
    "        i-=1\n",
    "        j-=1\n",
    "    i = row\n",
    "    j = col\n",
    "    while(i < n and j >= 0):\n",
    "        if(board[i][j]==1):\n",
    "            return False\n",
    "        i+=1\n",
    "        j-=1\n",
    "    return True\n",
    " \n",
    "def nQueen(board, col, n):\n",
    "    if(col>=n):\n",
    "        return True\n",
    "    for i in range(n):\n",
    "        if safe(board, i, col, n):\n",
    "            board[i][col] = 1\n",
    "            if nQueen(board, col+1, n):\n",
    "                return True\n",
    "            board[i][col] = 0\n",
    "    return False\n",
    "\n",
    "n = 4\n",
    "board = random.choice([0,1], size=(n,n))\n",
    "#board = [[0,0,1,0],\n",
    "#         [1,0,0,0],\n",
    " #        [0,0,0,1],\n",
    "  #       [0,1,0,0]]\n",
    "#board = [[0 for j in range(n)] for i in range(n)]\n",
    "if nQueen(board, 0 ,n):\n",
    "    for i in range(n):\n",
    "        for j in range(n):\n",
    "            print(board[i][j], end=\" \")\n",
    "        print()\n",
    "else:\n",
    "    print(\"Has Attack\")\n",
    "          "
   ]
  },
  {
   "cell_type": "code",
   "execution_count": null,
   "id": "a055fbc6",
   "metadata": {},
   "outputs": [],
   "source": []
  },
  {
   "cell_type": "code",
   "execution_count": null,
   "id": "7c69be98",
   "metadata": {},
   "outputs": [],
   "source": []
  },
  {
   "cell_type": "code",
   "execution_count": 64,
   "id": "3c7d6755",
   "metadata": {},
   "outputs": [
    {
     "name": "stdout",
     "output_type": "stream",
     "text": [
      "1 1 1 0 \n",
      "0 0 1 1 \n",
      "0 0 1 0 \n",
      "1 0 0 0 \n"
     ]
    }
   ],
   "source": [
    "from numpy import random\n",
    "\n",
    "def safe(board, row, col, n):\n",
    "    for c in range(col, -1, -1):\n",
    "        if(board[row][c])==1:\n",
    "            return False;\n",
    "    i = row\n",
    "    j = col\n",
    "    while(i >=0 and j >=0):\n",
    "        if(board[i][j])==1:\n",
    "            return False\n",
    "        i-=1\n",
    "        j-=1\n",
    "    i = row\n",
    "    j = col\n",
    "    while(i < n and j >= 0):\n",
    "        if(board[i][j]==1):\n",
    "            return False\n",
    "        i+=1\n",
    "        j-=1\n",
    "    return True\n",
    "\n",
    "\n",
    "n = 4\n",
    "board = random.choice([0,1], size=(n,n))\n",
    "\n",
    "#board = [[0 for j in range(n)] for i in range(n)]\n",
    "    \n",
    "for i in range(n):\n",
    "        for j in range(n):\n",
    "            print(board[i][j], end=\" \")\n",
    "        print()\n",
    "        \n",
    "if safe(board, i, j, n):\n",
    "            print(\"Attack\",end=\" \")\n",
    "\n",
    "        else:\n",
    "            print(\"NoAttack\",end=\" \")"
   ]
  },
  {
   "cell_type": "code",
   "execution_count": 36,
   "id": "8591644a",
   "metadata": {},
   "outputs": [],
   "source": [
    "board = [[0,0,1,0],\n",
    "         [1,0,0,0],\n",
    "         [0,0,0,1],\n",
    "         [0,1,0,0]]"
   ]
  },
  {
   "cell_type": "code",
   "execution_count": null,
   "id": "57ac26f9",
   "metadata": {},
   "outputs": [],
   "source": [
    "board = [[0 for j in range(n)] for i in range(n)]\n",
    "print(board)\n",
    "for i in range(n):\n",
    "        for j in range(n):\n",
    "            print(board[i][j], end=\" \")\n",
    "        print()\n",
    "        \n",
    "for i in range(n):\n",
    "    for j in range(n):\n",
    "        if safe(board, i, j, n):\n",
    "            print(\"Attack\",end=\" \")\n",
    "\n",
    "        else:\n",
    "            print(\"NoAttack\",end=\" \")\n",
    "    print()"
   ]
  }
 ],
 "metadata": {
  "kernelspec": {
   "display_name": "Python 3 (ipykernel)",
   "language": "python",
   "name": "python3"
  },
  "language_info": {
   "codemirror_mode": {
    "name": "ipython",
    "version": 3
   },
   "file_extension": ".py",
   "mimetype": "text/x-python",
   "name": "python",
   "nbconvert_exporter": "python",
   "pygments_lexer": "ipython3",
   "version": "3.11.5"
  }
 },
 "nbformat": 4,
 "nbformat_minor": 5
}
