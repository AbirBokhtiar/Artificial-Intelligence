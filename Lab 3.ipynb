{
 "cells": [
  {
   "cell_type": "code",
   "execution_count": 4,
   "id": "7ed5872c",
   "metadata": {},
   "outputs": [
    {
     "name": "stdout",
     "output_type": "stream",
     "text": [
      "[40, 50, 10, 20, 30]\n"
     ]
    }
   ],
   "source": [
    "# Rotation\n",
    "\n",
    "def leftRotate(List,k):\n",
    "    for j in range(k):\n",
    "        first=List[0]\n",
    "        for i in range(len(List)-1):\n",
    "            List[i]=List[i+1]\n",
    "        List[len(List)-1]=first\n",
    "    \n",
    "    return List\n",
    "\n",
    "List_1=[10,20,30,40,50]\n",
    "new_List= leftRotate(List_1,3)\n",
    "print(new_List)"
   ]
  },
  {
   "cell_type": "code",
   "execution_count": 5,
   "id": "65dc20e5",
   "metadata": {},
   "outputs": [
    {
     "name": "stdout",
     "output_type": "stream",
     "text": [
      "[30, 40, 50, 10, 20]\n"
     ]
    }
   ],
   "source": [
    "def rightRotate(List,k):\n",
    "    for j in range(k):\n",
    "        last=List[len(List)-1]\n",
    "        for i in range(len(List)-1,0,-1):\n",
    "            List[i]=List[i-1]\n",
    "        List[0]=last\n",
    "    \n",
    "    return List\n",
    "\n",
    "List_1=[10,20,30,40,50]\n",
    "new_List= rightRotate(List_1,3)\n",
    "print(new_List)"
   ]
  },
  {
   "cell_type": "code",
   "execution_count": 6,
   "id": "39d3476e",
   "metadata": {},
   "outputs": [
    {
     "name": "stdout",
     "output_type": "stream",
     "text": [
      "40\n",
      "30\n",
      "20\n",
      "10\n"
     ]
    }
   ],
   "source": [
    "List_2=[10,20,30,40]\n",
    "new_List1=[]\n",
    "for i in range(len(List_2)-1,-1,-1):\n",
    "    print(List_2[i])"
   ]
  },
  {
   "cell_type": "code",
   "execution_count": 8,
   "id": "ccd6d709",
   "metadata": {},
   "outputs": [
    {
     "name": "stdout",
     "output_type": "stream",
     "text": [
      "[40, 30, 20, 10]\n"
     ]
    }
   ],
   "source": [
    "List_2=[10,20,30,40]\n",
    "new_List1=[]\n",
    "for i in range(len(List_2)-1,-1,-1):\n",
    "    new_List1.append(List_2[i])\n",
    "print(new_List1)"
   ]
  },
  {
   "cell_type": "code",
   "execution_count": 11,
   "id": "60033d60",
   "metadata": {},
   "outputs": [
    {
     "name": "stdout",
     "output_type": "stream",
     "text": [
      "10\n",
      "30\n",
      "50\n"
     ]
    }
   ],
   "source": [
    "List_2=[10,20,30,40,50]\n",
    "new_List1=[]\n",
    "for i in range(0,len(List_2),2):\n",
    "    print(List_2[i])"
   ]
  },
  {
   "cell_type": "markdown",
   "id": "ea41e0df",
   "metadata": {},
   "source": [
    "# Function of List,Tuple,Set,Dictionary,String"
   ]
  },
  {
   "cell_type": "code",
   "execution_count": 12,
   "id": "69196806",
   "metadata": {},
   "outputs": [
    {
     "name": "stdout",
     "output_type": "stream",
     "text": [
      "[10, 20, 30, 40, 50]\n"
     ]
    }
   ],
   "source": [
    "List_2=[20,10,30,40,50]\n",
    "List_2.sort()\n",
    "print(List_2)"
   ]
  },
  {
   "cell_type": "code",
   "execution_count": 13,
   "id": "5813ceda",
   "metadata": {},
   "outputs": [
    {
     "name": "stdout",
     "output_type": "stream",
     "text": [
      "150.0\n"
     ]
    }
   ],
   "source": [
    "import math\n",
    "List_3=[10,20,30,40]\n",
    "print(math.fsum(List_2))"
   ]
  },
  {
   "cell_type": "code",
   "execution_count": 17,
   "id": "35074ace",
   "metadata": {},
   "outputs": [
    {
     "name": "stdout",
     "output_type": "stream",
     "text": [
      "[20, 10, 40, 50, 30]\n"
     ]
    }
   ],
   "source": [
    "List_4=[20,10,40,50,30]\n",
    "new_list=List_4.copy()\n",
    "print(new_list)"
   ]
  },
  {
   "cell_type": "code",
   "execution_count": 24,
   "id": "d3f27ae0",
   "metadata": {},
   "outputs": [
    {
     "name": "stdout",
     "output_type": "stream",
     "text": [
      "2\n"
     ]
    }
   ],
   "source": [
    "List_4=[20,10,40,50,30,40]\n",
    "new_list=List_4.copy()\n",
    "print(new_list.count(40))"
   ]
  },
  {
   "cell_type": "code",
   "execution_count": 25,
   "id": "33320499",
   "metadata": {},
   "outputs": [],
   "source": [
    "L1=List_4 #shallow copy\n"
   ]
  },
  {
   "cell_type": "code",
   "execution_count": 29,
   "id": "88c9d81e",
   "metadata": {},
   "outputs": [
    {
     "name": "stdout",
     "output_type": "stream",
     "text": [
      "1\n",
      "2\n"
     ]
    }
   ],
   "source": [
    "tuple=(1,2,3,4,5,6)\n",
    "num=tuple.count(4)\n",
    "print(num)\n",
    "num1=tuple.index(3)\n",
    "print(num1)"
   ]
  },
  {
   "cell_type": "code",
   "execution_count": 30,
   "id": "d1d620da",
   "metadata": {},
   "outputs": [
    {
     "name": "stdout",
     "output_type": "stream",
     "text": [
      "{}\n"
     ]
    }
   ],
   "source": [
    "#Dictionary\n",
    "car = {\n",
    "  \"brand\": \"Ford\",\n",
    "  \"model\": \"Mustang\",\n",
    "  \"year\": 1964\n",
    "}\n",
    "\n",
    "car.clear()\n",
    "\n",
    "print(car)"
   ]
  },
  {
   "cell_type": "code",
   "execution_count": 31,
   "id": "463af313",
   "metadata": {},
   "outputs": [
    {
     "name": "stdout",
     "output_type": "stream",
     "text": [
      "{'key1': 0, 'key2': 0, 'key3': 0}\n"
     ]
    }
   ],
   "source": [
    "x = ('key1', 'key2', 'key3')\n",
    "y = 0\n",
    "\n",
    "thisdict = dict.fromkeys(x, y)\n",
    "\n",
    "print(thisdict)"
   ]
  },
  {
   "cell_type": "code",
   "execution_count": 32,
   "id": "cd31c9cf",
   "metadata": {},
   "outputs": [
    {
     "name": "stdout",
     "output_type": "stream",
     "text": [
      "{'brand': 'Ford', 'model': 'Mustang', 'year': 1964}\n"
     ]
    }
   ],
   "source": [
    "car = {\n",
    "  \"brand\": \"Ford\",\n",
    "  \"model\": \"Mustang\",\n",
    "  \"year\": 1964\n",
    "}\n",
    "print(car)"
   ]
  },
  {
   "cell_type": "code",
   "execution_count": 41,
   "id": "c9eeac85",
   "metadata": {},
   "outputs": [
    {
     "name": "stdout",
     "output_type": "stream",
     "text": [
      "[0.         0.22222222 0.44444444 0.66666667 0.88888889 1.11111111\n",
      " 1.33333333 1.55555556 1.77777778 2.        ]\n"
     ]
    },
    {
     "data": {
      "text/plain": [
       "[<matplotlib.lines.Line2D at 0x20be8328cd0>]"
      ]
     },
     "execution_count": 41,
     "metadata": {},
     "output_type": "execute_result"
    },
    {
     "data": {
      "image/png": "[encoded data removed]",
      "text/plain": [
       "<Figure size 432x288 with 1 Axes>"
      ]
     },
     "metadata": {
      "needs_background": "light"
     },
     "output_type": "display_data"
    }
   ],
   "source": [
    "import math\n",
    "import numpy as np\n",
    "import matplotlib.pyplot as plt\n",
    "a=np.linspace(0,2,10)\n",
    "print(a)\n",
    "x=np.linspace(0,2,10)\n",
    "y=x**2\n",
    "plt.plot(x,y)\n",
    "z=1/(1+np.exp(-x))\n",
    "plt.plot(x,z)"
   ]
  },
  {
   "cell_type": "code",
   "execution_count": 39,
   "id": "05ae0cb3",
   "metadata": {},
   "outputs": [
    {
     "name": "stdout",
     "output_type": "stream",
     "text": [
      "[0, 0.2, 0.4, 0.6000000000000001, 0.8, 1.0, 1.2, 1.4, 1.5999999999999999, 1.7999999999999998, 1.9999999999999998]\n"
     ]
    }
   ],
   "source": [
    "def Linespace(low,high,n):\n",
    "    l=[]\n",
    "    del_h=(high-low)/n\n",
    "    l.append(low)\n",
    "    for i in range(n):\n",
    "        l.append(l[i]+del_h)\n",
    "    return l\n",
    "print(Linespace(0,2,10))"
   ]
  },
  {
   "cell_type": "code",
   "execution_count": 40,
   "id": "bccc145f",
   "metadata": {},
   "outputs": [],
   "source": [
    "my_arr=np.arange(10000000)\n",
    "%time for _ in range(100): my_arr2 = my_arr"
   ]
  },
  {
   "cell_type": "code",
   "execution_count": null,
   "id": "bf39552e",
   "metadata": {},
   "outputs": [],
   "source": []
  }
 ],
 "metadata": {
  "kernelspec": {
   "display_name": "Python 3 (ipykernel)",
   "language": "python",
   "name": "python3"
  },
  "language_info": {
   "codemirror_mode": {
    "name": "ipython",
    "version": 3
   },
   "file_extension": ".py",
   "mimetype": "text/x-python",
   "name": "python",
   "nbconvert_exporter": "python",
   "pygments_lexer": "ipython3",
   "version": "3.9.7"
  }
 },
 "nbformat": 4,
 "nbformat_minor": 5
}
