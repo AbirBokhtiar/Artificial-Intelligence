{
 "cells": [
  {
   "cell_type": "code",
   "execution_count": 1,
   "id": "0775ef39",
   "metadata": {},
   "outputs": [
    {
     "name": "stdout",
     "output_type": "stream",
     "text": [
      "[0, 6, 0, 0, 0, 3, 0, 0, 0, 0]\n",
      "[6, 0, 3, 2, 0, 0, 0, 0, 0, 0]\n",
      "[0, 3, 0, 1, 5, 0, 0, 0, 0, 0]\n",
      "[0, 2, 1, 0, 0, 8, 0, 0, 0, 0]\n",
      "[0, 0, 5, 0, 0, 0, 5, 0, 0, 5]\n",
      "[3, 0, 0, 8, 0, 0, 1, 7, 0, 0]\n",
      "[0, 0, 0, 0, 5, 1, 0, 0, 3, 0]\n",
      "[0, 0, 0, 0, 0, 7, 0, 0, 2, 0]\n",
      "[0, 0, 0, 0, 0, 0, 3, 2, 0, 3]\n",
      "[0, 0, 0, 0, 5, 0, 0, 0, 3, 0]\n",
      "\n"
     ]
    },
    {
     "ename": "NameError",
     "evalue": "name 'adj' is not defined",
     "output_type": "error",
     "traceback": [
      "\u001b[1;31m---------------------------------------------------------------------------\u001b[0m",
      "\u001b[1;31mNameError\u001b[0m                                 Traceback (most recent call last)",
      "Cell \u001b[1;32mIn[1], line 75\u001b[0m\n\u001b[0;32m     73\u001b[0m s \u001b[38;5;241m=\u001b[39m \u001b[38;5;241m0\u001b[39m\n\u001b[0;32m     74\u001b[0m g \u001b[38;5;241m=\u001b[39m \u001b[38;5;241m8\u001b[39m\n\u001b[1;32m---> 75\u001b[0m shortest_path_cost \u001b[38;5;241m=\u001b[39m ucs(adj, s, g)\n\u001b[0;32m     76\u001b[0m \u001b[38;5;28mprint\u001b[39m(\u001b[38;5;124mf\u001b[39m\u001b[38;5;124m\"\u001b[39m\u001b[38;5;124mThe shortest path cost between \u001b[39m\u001b[38;5;132;01m{\u001b[39;00ms\u001b[38;5;132;01m}\u001b[39;00m\u001b[38;5;124m and \u001b[39m\u001b[38;5;132;01m{\u001b[39;00mg\u001b[38;5;132;01m}\u001b[39;00m\u001b[38;5;124m is \u001b[39m\u001b[38;5;132;01m{\u001b[39;00mshortest_path_cost\u001b[38;5;132;01m}\u001b[39;00m\u001b[38;5;124m.\u001b[39m\u001b[38;5;124m\"\u001b[39m)\n",
      "\u001b[1;31mNameError\u001b[0m: name 'adj' is not defined"
     ]
    }
   ],
   "source": [
    "def readGraphData(file):\n",
    "    f=open(file,\"r\")\n",
    "\n",
    "    graph=[]\n",
    "    \n",
    "    vertexAndEdge=f.readline()\n",
    "    v = int(vertexAndEdge.split()[0])\n",
    "    e = int(vertexAndEdge.split()[1])\n",
    "    #print(vertexAndEdge)\n",
    "    \n",
    "    for line in f.readlines():\n",
    "        #print(line)\n",
    "        row=[]\n",
    "        row.append(int(line.split()[0]))\n",
    "        row.append(int(line.split()[1]))\n",
    "        row.append(int(line.split()[2]))\n",
    "        graph.append(row)\n",
    "    return v,e,graph\n",
    "\n",
    "def createZeroMatrix(vertex):\n",
    "    matrix=[]\n",
    "    for i in range(vertex):\n",
    "        row=[]\n",
    "        for j in range(vertex):\n",
    "            row.append(0)\n",
    "        matrix.append(row)\n",
    "    return matrix\n",
    "\n",
    "def printMatrix(matrix):\n",
    "    for i in matrix:\n",
    "        print(i,end=\"\\n\")\n",
    "    print()\n",
    "\n",
    "def addEdges(graph,matrix):\n",
    "    for e in range(len(graph)):\n",
    "        u=graph[e][0]\n",
    "        v=graph[e][1]\n",
    "        w =graph[e][2]\n",
    "        matrix[u][v]=w\n",
    "        matrix[v][u]=w\n",
    "    return matrix\n",
    "\n",
    "def ucs(graph, start, goal):\n",
    "    \n",
    "    q =queue.PriorityQueue()\n",
    "    \n",
    "    q.put((0, start))\n",
    "    visited = set()\n",
    " \n",
    "    while q:\n",
    "        costnode = list(q.get())\n",
    "        print(costnode)\n",
    "        cost = costnode[0]\n",
    "        node = costnode[1]\n",
    "        print(node)\n",
    "        if node == goal:\n",
    "            return cost\n",
    " \n",
    "        if node not in visited:\n",
    "            visited.add(node)\n",
    " \n",
    "            for neighbor, neighbor_cost in graph[node]:\n",
    "                if neighbor not in visited:\n",
    "                    q.put((cost + neighbor_cost, neighbor))\n",
    " \n",
    "    return float('inf')\n",
    " \n",
    "vertex,edge,graph=readGraphData(\"Weighted-Graph.txt\")\n",
    "#print(vertex,edge,graph)\n",
    "M=createZeroMatrix(vertex)\n",
    "M= addEdges(graph,M)\n",
    "printMatrix(M)\n",
    "s = 0\n",
    "g = 8\n",
    "shortest_path_cost = ucs(adj, s, g)\n",
    "print(f\"The shortest path cost between {s} and {g} is {shortest_path_cost}.\")"
   ]
  },
  {
   "cell_type": "code",
   "execution_count": null,
   "id": "c26aa1ea",
   "metadata": {},
   "outputs": [],
   "source": []
  }
 ],
 "metadata": {
  "kernelspec": {
   "display_name": "Python 3 (ipykernel)",
   "language": "python",
   "name": "python3"
  },
  "language_info": {
   "codemirror_mode": {
    "name": "ipython",
    "version": 3
   },
   "file_extension": ".py",
   "mimetype": "text/x-python",
   "name": "python",
   "nbconvert_exporter": "python",
   "pygments_lexer": "ipython3",
   "version": "3.11.5"
  }
 },
 "nbformat": 4,
 "nbformat_minor": 5
}
