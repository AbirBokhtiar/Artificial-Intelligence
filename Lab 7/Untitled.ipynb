{
 "cells": [
  {
   "cell_type": "markdown",
   "id": "8ee56ddd",
   "metadata": {},
   "source": [
    "# BFS"
   ]
  },
  {
   "cell_type": "code",
   "execution_count": 2,
   "id": "437c0194",
   "metadata": {},
   "outputs": [
    {
     "name": "stdout",
     "output_type": "stream",
     "text": [
      "Path from A to F:\n",
      "A -> B -> E -> F\n"
     ]
    }
   ],
   "source": [
    "from collections import deque\n",
    "def graphReader():\n",
    "    filename = \"graph.txt\"\n",
    "    graph_data = []\n",
    "    with open(filename, \"r\") as file:\n",
    "        for line in file:\n",
    "            parts = line.strip().split() \n",
    "            if len(parts) == 2:\n",
    "                node1, node2 = parts\n",
    "                graph_data.append((node1, node2))\n",
    "    graph = {}  \n",
    "\n",
    "    for node1, node2 in graph_data:\n",
    "        if node1 in graph:\n",
    "            graph[node1].append(node2)\n",
    "        else:\n",
    "            graph[node1] = [node2]\n",
    "        if node2 in graph:\n",
    "            graph[node2].append(node1)\n",
    "        else:\n",
    "            graph[node2] = [node1]\n",
    "    return graph\n",
    "graph = graphReader()\n",
    "\n",
    "\n",
    "\n",
    "def bfs(graph, start, goal):\n",
    "    visited = set()\n",
    "    queue = deque()\n",
    "    queue.append(start)\n",
    "    \n",
    "    paths = {start: [start]}  \n",
    "\n",
    "    while queue:\n",
    "        current = queue.popleft()\n",
    "\n",
    "        if current == goal:\n",
    "            return paths[current]  \n",
    "\n",
    "        if current not in visited:\n",
    "            visited.add(current)\n",
    "            neighbors = graph[current]\n",
    "            for neighbor in neighbors:\n",
    "                if neighbor not in visited:\n",
    "                    queue.append(neighbor)\n",
    "                    paths[neighbor] = paths[current] + [neighbor]  \n",
    "    return None  \n",
    "\n",
    "graph = graphReader()\n",
    "\n",
    "start_node = 'A'\n",
    "goal_node = 'F'\n",
    "\n",
    "path = bfs(graph, start_node, goal_node)\n",
    "\n",
    "if path:\n",
    "    print(\"Path from {} to {}:\".format(start_node, goal_node))\n",
    "    print(\" -> \".join(path))\n",
    "else:\n",
    "    print(\"No path found from {} to {}.\".format(start_node, goal_node))\n"
   ]
  },
  {
   "cell_type": "code",
   "execution_count": null,
   "id": "8ebbab67",
   "metadata": {},
   "outputs": [],
   "source": []
  }
 ],
 "metadata": {
  "kernelspec": {
   "display_name": "Python 3 (ipykernel)",
   "language": "python",
   "name": "python3"
  },
  "language_info": {
   "codemirror_mode": {
    "name": "ipython",
    "version": 3
   },
   "file_extension": ".py",
   "mimetype": "text/x-python",
   "name": "python",
   "nbconvert_exporter": "python",
   "pygments_lexer": "ipython3",
   "version": "3.11.5"
  }
 },
 "nbformat": 4,
 "nbformat_minor": 5
}
