{
 "cells": [
  {
   "cell_type": "code",
   "execution_count": 4,
   "id": "d518b6cb",
   "metadata": {},
   "outputs": [
    {
     "name": "stdout",
     "output_type": "stream",
     "text": [
      "[6, 7, 2, 3, 4, 5]\n"
     ]
    }
   ],
   "source": [
    "def rightRotate(List,k):\n",
    "    for j in range(k):\n",
    "        last= List[len(List)-1]\n",
    "        for i in range(len(List)-1,-1,-1):\n",
    "            List[i]=List[i-1]\n",
    "        List[0]=last\n",
    "    return List\n",
    "\n",
    "List_1=[2,3,4,5,6,7]\n",
    "print(rightRotate(List_1,2))\n",
    "        \n"
   ]
  },
  {
   "cell_type": "code",
   "execution_count": 5,
   "id": "efd7d6b2",
   "metadata": {},
   "outputs": [
    {
     "name": "stdout",
     "output_type": "stream",
     "text": [
      "[2, 3, 4, 5, 6, 7]\n"
     ]
    }
   ],
   "source": [
    "List_1=[2,3,4,5,6,7]\n",
    "L1=List_1\n",
    "print(L1)"
   ]
  },
  {
   "cell_type": "code",
   "execution_count": 6,
   "id": "efe3caa7",
   "metadata": {},
   "outputs": [],
   "source": [
    "import numpy as np"
   ]
  },
  {
   "cell_type": "code",
   "execution_count": 10,
   "id": "739d4592",
   "metadata": {},
   "outputs": [
    {
     "name": "stdout",
     "output_type": "stream",
     "text": [
      "[[1. 1. 1. 1. 1.]\n",
      " [1. 1. 1. 1. 1.]\n",
      " [1. 1. 1. 1. 1.]\n",
      " [1. 1. 1. 1. 1.]]\n",
      "[[1. 0. 0. 0. 0.]\n",
      " [0. 1. 0. 0. 0.]\n",
      " [0. 0. 1. 0. 0.]\n",
      " [0. 0. 0. 1. 0.]]\n"
     ]
    }
   ],
   "source": [
    "A=np.ones([4,5])\n",
    "C=np.eye(4,5)\n",
    "print(A)\n",
    "print(C)"
   ]
  },
  {
   "cell_type": "code",
   "execution_count": 11,
   "id": "84719d57",
   "metadata": {},
   "outputs": [
    {
     "name": "stdout",
     "output_type": "stream",
     "text": [
      "[[0.36067709 0.64501864 0.8854719 ]\n",
      " [0.41276913 0.26282316 0.61620925]]\n",
      "0.36067709009401805\n",
      "0.6450186436821871\n",
      "0.8854719041499481\n",
      "0.41276913203845256\n",
      "0.2628231558269244\n",
      "0.6162092461308785\n"
     ]
    }
   ],
   "source": [
    "A= np.random.rand(2,3)\n",
    "print(A)\n",
    "for i in range(2):\n",
    "    for j in range(3):\n",
    "        print(A[i,j])"
   ]
  },
  {
   "cell_type": "code",
   "execution_count": 12,
   "id": "b4c1abb8",
   "metadata": {},
   "outputs": [],
   "source": [
    "f = open(\"Hi.txt\",\"w\") # r-read, w - write, a-append\n",
    "f.write(\"Hi, I love AI\")\n",
    "f.close()"
   ]
  },
  {
   "cell_type": "code",
   "execution_count": 18,
   "id": "eec1a08a",
   "metadata": {},
   "outputs": [
    {
     "ename": "TypeError",
     "evalue": "'str' object cannot be interpreted as an integer",
     "output_type": "error",
     "traceback": [
      "\u001b[1;31m---------------------------------------------------------------------------\u001b[0m",
      "\u001b[1;31mTypeError\u001b[0m                                 Traceback (most recent call last)",
      "Cell \u001b[1;32mIn[18], line 3\u001b[0m\n\u001b[0;32m      1\u001b[0m L1\u001b[38;5;241m=\u001b[39m[\u001b[38;5;241m10\u001b[39m,\u001b[38;5;241m20\u001b[39m,\u001b[38;5;241m30\u001b[39m,\u001b[38;5;241m40\u001b[39m]\n\u001b[0;32m      2\u001b[0m L2\u001b[38;5;241m=\u001b[39m[\u001b[38;5;241m1\u001b[39m,\u001b[38;5;241m2\u001b[39m,\u001b[38;5;241m3\u001b[39m,\u001b[38;5;241m4\u001b[39m]\n\u001b[1;32m----> 3\u001b[0m f\u001b[38;5;241m=\u001b[39m\u001b[38;5;28mopen\u001b[39m(\u001b[38;5;124m\"\u001b[39m\u001b[38;5;124mL.txt\u001b[39m\u001b[38;5;124m\"\u001b[39m,\u001b[38;5;124m\"\u001b[39m\u001b[38;5;124mw\u001b[39m\u001b[38;5;124m\"\u001b[39m,\u001b[38;5;124m\"\u001b[39m\u001b[38;5;124mr\u001b[39m\u001b[38;5;124m\"\u001b[39m)\n\u001b[0;32m      5\u001b[0m \u001b[38;5;28;01mfor\u001b[39;00m i \u001b[38;5;129;01min\u001b[39;00m \u001b[38;5;28mrange\u001b[39m(\u001b[38;5;28mlen\u001b[39m(L1)):\n\u001b[0;32m      6\u001b[0m     f\u001b[38;5;241m.\u001b[39mwrite(\u001b[38;5;28mstr\u001b[39m(L1[i])\u001b[38;5;241m+\u001b[39m\u001b[38;5;124m\"\u001b[39m\u001b[38;5;124m \u001b[39m\u001b[38;5;124m\"\u001b[39m\u001b[38;5;241m+\u001b[39m\u001b[38;5;28mstr\u001b[39m(L2[i])\u001b[38;5;241m+\u001b[39m\u001b[38;5;124m\"\u001b[39m\u001b[38;5;130;01m\\n\u001b[39;00m\u001b[38;5;124m\"\u001b[39m)\n",
      "File \u001b[1;32mI:\\Anaconda\\Lib\\site-packages\\IPython\\core\\interactiveshell.py:286\u001b[0m, in \u001b[0;36m_modified_open\u001b[1;34m(file, *args, **kwargs)\u001b[0m\n\u001b[0;32m    279\u001b[0m \u001b[38;5;28;01mif\u001b[39;00m file \u001b[38;5;129;01min\u001b[39;00m {\u001b[38;5;241m0\u001b[39m, \u001b[38;5;241m1\u001b[39m, \u001b[38;5;241m2\u001b[39m}:\n\u001b[0;32m    280\u001b[0m     \u001b[38;5;28;01mraise\u001b[39;00m \u001b[38;5;167;01mValueError\u001b[39;00m(\n\u001b[0;32m    281\u001b[0m         \u001b[38;5;124mf\u001b[39m\u001b[38;5;124m\"\u001b[39m\u001b[38;5;124mIPython won\u001b[39m\u001b[38;5;124m'\u001b[39m\u001b[38;5;124mt let you open fd=\u001b[39m\u001b[38;5;132;01m{\u001b[39;00mfile\u001b[38;5;132;01m}\u001b[39;00m\u001b[38;5;124m by default \u001b[39m\u001b[38;5;124m\"\u001b[39m\n\u001b[0;32m    282\u001b[0m         \u001b[38;5;124m\"\u001b[39m\u001b[38;5;124mas it is likely to crash IPython. If you know what you are doing, \u001b[39m\u001b[38;5;124m\"\u001b[39m\n\u001b[0;32m    283\u001b[0m         \u001b[38;5;124m\"\u001b[39m\u001b[38;5;124myou can use builtins\u001b[39m\u001b[38;5;124m'\u001b[39m\u001b[38;5;124m open.\u001b[39m\u001b[38;5;124m\"\u001b[39m\n\u001b[0;32m    284\u001b[0m     )\n\u001b[1;32m--> 286\u001b[0m \u001b[38;5;28;01mreturn\u001b[39;00m io_open(file, \u001b[38;5;241m*\u001b[39margs, \u001b[38;5;241m*\u001b[39m\u001b[38;5;241m*\u001b[39mkwargs)\n",
      "\u001b[1;31mTypeError\u001b[0m: 'str' object cannot be interpreted as an integer"
     ]
    }
   ],
   "source": [
    "L1=[10,20,30,40]\n",
    "L2=[1,2,3,4]\n",
    "f=open(\"L.txt\",\"w\",\"r\")\n",
    "\n",
    "for i in range(len(L1)):\n",
    "    f.write(str(L1[i])+\" \"+str(L2[i])+\"\\n\")\n",
    "print(f.read())\n",
    "f.close()\n"
   ]
  },
  {
   "cell_type": "code",
   "execution_count": 26,
   "id": "ace3a348",
   "metadata": {},
   "outputs": [],
   "source": [
    "L1=[10,20,30,40]\n",
    "L2=[1,2,3,4]\n",
    "f=open(\"List.txt\",\"w\")\n",
    "for i in range(len(L1)):\n",
    "    f.write(str(L1[i])+\" \")\n",
    "f.close()"
   ]
  },
  {
   "cell_type": "code",
   "execution_count": 27,
   "id": "d4f3c02f",
   "metadata": {},
   "outputs": [
    {
     "name": "stdout",
     "output_type": "stream",
     "text": [
      "10 20 30 40 \n"
     ]
    }
   ],
   "source": [
    "f=open(\"List.txt\",\"r\")\n",
    "print(f.read())"
   ]
  },
  {
   "cell_type": "code",
   "execution_count": 36,
   "id": "d7bdb75b",
   "metadata": {},
   "outputs": [
    {
     "name": "stdout",
     "output_type": "stream",
     "text": [
      "11\n"
     ]
    }
   ],
   "source": [
    "d={\"Abir\":10, \"Bokhtiar\":11}\n",
    "print(d[\"Bokhtiar\"])"
   ]
  },
  {
   "cell_type": "code",
   "execution_count": 29,
   "id": "eee174c4",
   "metadata": {},
   "outputs": [
    {
     "name": "stdout",
     "output_type": "stream",
     "text": [
      "['cc', 'bb', 'aa']\n",
      "aa\n",
      "['cc', 'bb']\n"
     ]
    }
   ],
   "source": [
    "Stack = []\n",
    "Stack.append('cc') # insert\n",
    "Stack.append('bb')\n",
    "Stack.append('aa')\n",
    "print(Stack)\n",
    "print(Stack.pop()) # delete\n",
    "print(Stack)"
   ]
  },
  {
   "cell_type": "code",
   "execution_count": 38,
   "id": "3d54eb3d",
   "metadata": {},
   "outputs": [
    {
     "name": "stdout",
     "output_type": "stream",
     "text": [
      "5 3 7 2 4 8 "
     ]
    }
   ],
   "source": [
    "graph={'5':['3','7'], \n",
    "       '3':['2','4'], \n",
    "       '7':['8'], \n",
    "       '2':[], \n",
    "       '4':['8'], \n",
    "       '8':[]}\n",
    "\n",
    "visited = []\n",
    "queue = []\n",
    "\n",
    "def bfs(vis, graph, node):\n",
    "    visited.append(node)\n",
    "    queue.append(node)\n",
    "    \n",
    "    while queue:\n",
    "        m= queue.pop(0)\n",
    "        print(m, end=\" \")\n",
    "        \n",
    "        for neighbour in graph[m]:\n",
    "            if neighbour not in visited:\n",
    "                visited.append(neighbour)\n",
    "                queue.append(neighbour)\n",
    "\n",
    "bfs(visited, graph, '5')\n",
    "\n",
    "\n",
    "\n"
   ]
  },
  {
   "cell_type": "code",
   "execution_count": 91,
   "id": "f346850e",
   "metadata": {},
   "outputs": [
    {
     "name": "stdout",
     "output_type": "stream",
     "text": [
      "5 3 2 4 8 7 "
     ]
    }
   ],
   "source": [
    "graph={'5':['3','7'], \n",
    "       '3':['2','4'], \n",
    "       '7':['8'], \n",
    "       '2':[], \n",
    "       '4':['8'], \n",
    "       '8':[]}\n",
    "\n",
    "visited = []\n",
    "stack = []\n",
    "\n",
    "def dfs1(vis, graph, node):\n",
    "    if not visited:\n",
    "        print(node,end=\" \")\n",
    "        \n",
    "    stack.append(node)  \n",
    "    visited.append(node) \n",
    "    \n",
    "    for child in graph[node]:\n",
    "        if child not in visited:  \n",
    "            print(child, end=\" \")\n",
    "            dfs1(visited, graph, child)\n",
    "                \n",
    "dfs1(visited, graph, '5')\n",
    "\n",
    "\n",
    "\n"
   ]
  },
  {
   "cell_type": "code",
   "execution_count": null,
   "id": "817d7989",
   "metadata": {},
   "outputs": [],
   "source": []
  },
  {
   "cell_type": "code",
   "execution_count": null,
   "id": "f5915ef8",
   "metadata": {},
   "outputs": [],
   "source": []
  }
 ],
 "metadata": {
  "kernelspec": {
   "display_name": "Python 3 (ipykernel)",
   "language": "python",
   "name": "python3"
  },
  "language_info": {
   "codemirror_mode": {
    "name": "ipython",
    "version": 3
   },
   "file_extension": ".py",
   "mimetype": "text/x-python",
   "name": "python",
   "nbconvert_exporter": "python",
   "pygments_lexer": "ipython3",
   "version": "3.11.5"
  }
 },
 "nbformat": 4,
 "nbformat_minor": 5
}
