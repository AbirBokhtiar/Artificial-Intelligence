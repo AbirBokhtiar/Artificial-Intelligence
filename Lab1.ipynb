{
 "cells": [
  {
   "cell_type": "markdown",
   "id": "30446fcb",
   "metadata": {},
   "source": [
    "#Hello World Program in Python"
   ]
  },
  {
   "cell_type": "code",
   "execution_count": 1,
   "id": "193d5ea4",
   "metadata": {},
   "outputs": [
    {
     "name": "stdout",
     "output_type": "stream",
     "text": [
      "hello world\n"
     ]
    }
   ],
   "source": [
    "print(\"hello world\")"
   ]
  },
  {
   "cell_type": "code",
   "execution_count": 3,
   "id": "a4e34982",
   "metadata": {},
   "outputs": [
    {
     "name": "stdout",
     "output_type": "stream",
     "text": [
      "helo\n"
     ]
    },
    {
     "data": {
      "text/plain": [
       "str"
      ]
     },
     "execution_count": 3,
     "metadata": {},
     "output_type": "execute_result"
    }
   ],
   "source": [
    "a = \"helo\"\n",
    "print(a)\n",
    "type(a)"
   ]
  },
  {
   "cell_type": "code",
   "execution_count": 4,
   "id": "ea11ed51",
   "metadata": {},
   "outputs": [
    {
     "name": "stdout",
     "output_type": "stream",
     "text": [
      "10.0\n"
     ]
    },
    {
     "data": {
      "text/plain": [
       "float"
      ]
     },
     "execution_count": 4,
     "metadata": {},
     "output_type": "execute_result"
    }
   ],
   "source": [
    "a = 10.0\n",
    "print(a)\n",
    "type(a)"
   ]
  },
  {
   "cell_type": "code",
   "execution_count": 5,
   "id": "dd13e76a",
   "metadata": {},
   "outputs": [],
   "source": [
    "l = [10,3.5,\"hi\",40]"
   ]
  },
  {
   "cell_type": "code",
   "execution_count": 6,
   "id": "bb2636cd",
   "metadata": {},
   "outputs": [
    {
     "name": "stdout",
     "output_type": "stream",
     "text": [
      "[10, 3.5, 'hi', 40]\n"
     ]
    },
    {
     "data": {
      "text/plain": [
       "list"
      ]
     },
     "execution_count": 6,
     "metadata": {},
     "output_type": "execute_result"
    }
   ],
   "source": [
    "l = [10,3.5,\"hi\",40]\n",
    "print(l)\n",
    "type(l)"
   ]
  },
  {
   "cell_type": "code",
   "execution_count": 7,
   "id": "4f905102",
   "metadata": {},
   "outputs": [
    {
     "data": {
      "text/plain": [
       "tuple"
      ]
     },
     "execution_count": 7,
     "metadata": {},
     "output_type": "execute_result"
    }
   ],
   "source": [
    "t=(10,30)\n",
    "type(t)"
   ]
  },
  {
   "cell_type": "code",
   "execution_count": 8,
   "id": "da037c36",
   "metadata": {},
   "outputs": [
    {
     "data": {
      "text/plain": [
       "dict"
      ]
     },
     "execution_count": 8,
     "metadata": {},
     "output_type": "execute_result"
    }
   ],
   "source": [
    "d = {1997: \"Ray\", 2000: \"rayban\"}\n",
    "type(d)"
   ]
  },
  {
   "cell_type": "code",
   "execution_count": 9,
   "id": "84f8eb2e",
   "metadata": {},
   "outputs": [
    {
     "name": "stdout",
     "output_type": "stream",
     "text": [
      "{1997: 'Ray', 2000: 'rayban'}\n"
     ]
    }
   ],
   "source": [
    "d = {1997: \"Ray\", 2000: \"rayban\"}\n",
    "type(d)\n",
    "print(d)"
   ]
  },
  {
   "cell_type": "code",
   "execution_count": 10,
   "id": "4305b937",
   "metadata": {},
   "outputs": [
    {
     "name": "stdout",
     "output_type": "stream",
     "text": [
      "{2, 3, 4}\n"
     ]
    },
    {
     "data": {
      "text/plain": [
       "set"
      ]
     },
     "execution_count": 10,
     "metadata": {},
     "output_type": "execute_result"
    }
   ],
   "source": [
    "s ={2,3,4}\n",
    "print(s)\n",
    "type(s)"
   ]
  },
  {
   "cell_type": "code",
   "execution_count": 11,
   "id": "1d9a306e",
   "metadata": {},
   "outputs": [
    {
     "name": "stdout",
     "output_type": "stream",
     "text": [
      "{2, 3, 4}\n",
      "<class 'set'>\n"
     ]
    }
   ],
   "source": [
    "s ={2,3,4}\n",
    "print(s)\n",
    "print(type(s))"
   ]
  },
  {
   "cell_type": "code",
   "execution_count": 12,
   "id": "a6a6d244",
   "metadata": {},
   "outputs": [
    {
     "name": "stdout",
     "output_type": "stream",
     "text": [
      "<class 'bool'>\n"
     ]
    }
   ],
   "source": [
    "k =True\n",
    "print(type(k))"
   ]
  },
  {
   "cell_type": "code",
   "execution_count": 13,
   "id": "9a77c855",
   "metadata": {},
   "outputs": [
    {
     "name": "stdout",
     "output_type": "stream",
     "text": [
      "ray\n"
     ]
    }
   ],
   "source": [
    "l=[2,\"ray\",3.5]\n",
    "print(l[1])"
   ]
  },
  {
   "cell_type": "markdown",
   "id": "a2bd4d48",
   "metadata": {},
   "source": [
    "#Arithmatic operator"
   ]
  },
  {
   "cell_type": "markdown",
   "id": "c0a92304",
   "metadata": {},
   "source": [
    "# Arithmatic operator"
   ]
  },
  {
   "cell_type": "code",
   "execution_count": 14,
   "id": "1430f37c",
   "metadata": {},
   "outputs": [],
   "source": [
    "a = 10"
   ]
  },
  {
   "cell_type": "code",
   "execution_count": 15,
   "id": "c07d624a",
   "metadata": {},
   "outputs": [
    {
     "name": "stdout",
     "output_type": "stream",
     "text": [
      "50\n",
      "600\n",
      "1\n",
      "348678440100000000000000000000\n",
      "10\n"
     ]
    }
   ],
   "source": [
    "a=30\n",
    "b=20\n",
    "print(a+b)\n",
    "print(a*b)\n",
    "print(a//b) //int division\n",
    "print(a**b) //power\n",
    "print(a%b)\n",
    "\n"
   ]
  },
  {
   "cell_type": "markdown",
   "id": "6b43546d",
   "metadata": {},
   "source": [
    "# input\n"
   ]
  },
  {
   "cell_type": "code",
   "execution_count": 17,
   "id": "1d419b91",
   "metadata": {},
   "outputs": [
    {
     "name": "stdout",
     "output_type": "stream",
     "text": [
      "enter age15\n",
      "not adult\n"
     ]
    }
   ],
   "source": [
    "age= int(input(\"enter age\"))\n",
    "if age>=18:\n",
    "    print(\"adult\")\n",
    "else:\n",
    "    print(\"not adult\")"
   ]
  },
  {
   "cell_type": "code",
   "execution_count": 22,
   "id": "1143dd6e",
   "metadata": {},
   "outputs": [
    {
     "ename": "IndentationError",
     "evalue": "unexpected indent (3024681884.py, line 2)",
     "output_type": "error",
     "traceback": [
      "\u001b[1;36m  File \u001b[1;32m\"C:\\Users\\student\\AppData\\Local\\Temp\\ipykernel_8980\\3024681884.py\"\u001b[1;36m, line \u001b[1;32m2\u001b[0m\n\u001b[1;33m    if marks>=90:\u001b[0m\n\u001b[1;37m    ^\u001b[0m\n\u001b[1;31mIndentationError\u001b[0m\u001b[1;31m:\u001b[0m unexpected indent\n"
     ]
    }
   ],
   "source": [
    "marks= int(input(\"Enter number\"))\n",
    "    if marks>=90: \n",
    "        print(\"A+\")\n",
    "    elif(marks<90 and marks>=80): \n",
    "        print(\"A\")\n",
    "    elif(marks<80 and marks>=75):\n",
    "        print(\"B+\")\n",
    "    elif(marks<75 and marks>=70): \n",
    "        print(\"B\")\n",
    "    elif(marks<70 and marks>=65): \n",
    "        print(\"C+\")\n",
    "    elif(marks<70 and marks>=65): \n",
    "        print(\"C+\")\n",
    "    elif(marks<70 and marks>=65): \n",
    "        print(\"C+\")\n",
    "    else:\n",
    "        print(\"F\")\n",
    "\n"
   ]
  },
  {
   "cell_type": "code",
   "execution_count": null,
   "id": "79611122",
   "metadata": {},
   "outputs": [],
   "source": []
  }
 ],
 "metadata": {
  "kernelspec": {
   "display_name": "Python 3 (ipykernel)",
   "language": "python",
   "name": "python3"
  },
  "language_info": {
   "codemirror_mode": {
    "name": "ipython",
    "version": 3
   },
   "file_extension": ".py",
   "mimetype": "text/x-python",
   "name": "python",
   "nbconvert_exporter": "python",
   "pygments_lexer": "ipython3",
   "version": "3.9.13"
  }
 },
 "nbformat": 4,
 "nbformat_minor": 5
}
