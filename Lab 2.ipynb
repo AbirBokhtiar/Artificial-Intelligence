{
 "cells": [
  {
   "cell_type": "code",
   "execution_count": 2,
   "id": "793ba7cd",
   "metadata": {},
   "outputs": [
    {
     "name": "stdout",
     "output_type": "stream",
     "text": [
      "h\n",
      "h\n",
      "h\n",
      "h\n",
      "h\n"
     ]
    }
   ],
   "source": [
    "for _ in range(5):\n",
    "    print(\"h\")"
   ]
  },
  {
   "cell_type": "code",
   "execution_count": 3,
   "id": "9c3fc96c",
   "metadata": {},
   "outputs": [
    {
     "name": "stdout",
     "output_type": "stream",
     "text": [
      "h0\n",
      "h1\n",
      "h2\n",
      "h3\n",
      "h4\n"
     ]
    }
   ],
   "source": [
    "for i in range(5):\n",
    "    print(\"h\"+str(i))"
   ]
  },
  {
   "cell_type": "code",
   "execution_count": 4,
   "id": "b51c018d",
   "metadata": {},
   "outputs": [
    {
     "name": "stdout",
     "output_type": "stream",
     "text": [
      "0\n",
      "1\n",
      "2\n",
      "3\n",
      "4\n"
     ]
    }
   ],
   "source": [
    "i=0\n",
    "while i<5:\n",
    "    print(i)\n",
    "    i=i+1"
   ]
  },
  {
   "cell_type": "code",
   "execution_count": 5,
   "id": "2ada3c2e",
   "metadata": {},
   "outputs": [
    {
     "name": "stdout",
     "output_type": "stream",
     "text": [
      "10\n",
      "20\n",
      "30\n"
     ]
    }
   ],
   "source": [
    "List=[10,20,30]\n",
    "for i in range(len(List)):\n",
    "    print(List[i])"
   ]
  },
  {
   "cell_type": "code",
   "execution_count": 12,
   "id": "50a3c997",
   "metadata": {},
   "outputs": [
    {
     "name": "stdout",
     "output_type": "stream",
     "text": [
      "[11, 22, 33, 44]\n"
     ]
    }
   ],
   "source": [
    "List1=[1,2,3,4]\n",
    "List2=[10,20,30,40]\n",
    "List3=[]\n",
    "\n",
    "for i in range(len(List1)):\n",
    "    List3.append(List1[i]+List2[i])\n",
    "\n",
    "print(List3)"
   ]
  },
  {
   "cell_type": "markdown",
   "id": "6c44565b",
   "metadata": {},
   "source": [
    "# Function"
   ]
  },
  {
   "cell_type": "code",
   "execution_count": 13,
   "id": "9412673e",
   "metadata": {},
   "outputs": [
    {
     "name": "stdout",
     "output_type": "stream",
     "text": [
      "102\n"
     ]
    }
   ],
   "source": [
    "# f(x)=x^2+2\n",
    "\n",
    "def f(x):\n",
    "    return x**2+2\n",
    "print(f(10))"
   ]
  },
  {
   "cell_type": "code",
   "execution_count": 14,
   "id": "a28fd59f",
   "metadata": {},
   "outputs": [
    {
     "name": "stdout",
     "output_type": "stream",
     "text": [
      "30\n"
     ]
    }
   ],
   "source": [
    "def mySum(a,b):\n",
    "    return a+b\n",
    "print(mySum(10,20))"
   ]
  },
  {
   "cell_type": "code",
   "execution_count": 16,
   "id": "4f1cc6ea",
   "metadata": {},
   "outputs": [
    {
     "name": "stdout",
     "output_type": "stream",
     "text": [
      "Hi Richard\n"
     ]
    }
   ],
   "source": [
    "def greet(name):\n",
    "    return \"Hi \"+name\n",
    "print(greet(\"Richard\"))"
   ]
  },
  {
   "cell_type": "code",
   "execution_count": 18,
   "id": "b71325b2",
   "metadata": {},
   "outputs": [
    {
     "name": "stdout",
     "output_type": "stream",
     "text": [
      "I love Python\n",
      "I love Bangladesh\n"
     ]
    }
   ],
   "source": [
    "def iLove(language, country):\n",
    "    print(\"I love \"+language+\"\\n\"+\"I love \"+country)\n",
    "    return\n",
    "iLove(\"Python\",\"Bangladesh\")"
   ]
  },
  {
   "cell_type": "code",
   "execution_count": 19,
   "id": "1f449270",
   "metadata": {},
   "outputs": [
    {
     "name": "stdout",
     "output_type": "stream",
     "text": [
      "I love Python\n",
      "I love Bangladesh\n"
     ]
    }
   ],
   "source": [
    "def iLove(language, country):\n",
    "    return \"I love \"+language+\"\\n\"+\"I love \"+country\n",
    "    \n",
    "print(iLove(\"Python\",\"Bangladesh\"))"
   ]
  },
  {
   "cell_type": "code",
   "execution_count": 25,
   "id": "cfe5acbd",
   "metadata": {},
   "outputs": [
    {
     "name": "stdout",
     "output_type": "stream",
     "text": [
      "100\n"
     ]
    }
   ],
   "source": [
    "def sumList(L):\n",
    "    s=0\n",
    "    for i in range(len(L)):\n",
    "        s=s+L[i]\n",
    "    return s\n",
    "    \n",
    "List1=[10,20,30,40]\n",
    "print(sumList(List1))"
   ]
  },
  {
   "cell_type": "code",
   "execution_count": 41,
   "id": "f4a1ace2",
   "metadata": {},
   "outputs": [
    {
     "name": "stdout",
     "output_type": "stream",
     "text": [
      "[10.0, 20.0, 30.0, 40.0]\n"
     ]
    }
   ],
   "source": [
    "\n",
    "def sumList(L):\n",
    "    s=0\n",
    "    for i in range(len(L)):\n",
    "        s=s+L[i]\n",
    "    return s\n",
    "\n",
    "def percent(L):\n",
    "    for i in range(len(List1)):\n",
    "        s=List1[i]/sumList(List1)*100\n",
    "        L1.append(s)\n",
    "    return L\n",
    "percent(List1)\n",
    "print(L1)\n",
    "\n",
    "List1=[10,20,30,40]\n",
    "L1=[]\n",
    "\n"
   ]
  },
  {
   "cell_type": "code",
   "execution_count": 44,
   "id": "daf9f7be",
   "metadata": {},
   "outputs": [
    {
     "name": "stdout",
     "output_type": "stream",
     "text": [
      "4\n",
      "3\n"
     ]
    }
   ],
   "source": [
    "def MIN(L):\n",
    "    index=0\n",
    "    for i in range(len(L)):\n",
    "        if L[i]<L[index]:\n",
    "            index=i\n",
    "    return index\n",
    "    \n",
    "def MAX(L):\n",
    "    index=0\n",
    "    for i in range(len(L)):\n",
    "        if L[i]>L[index]:\n",
    "            index=i\n",
    "    return index\n",
    "\n",
    "List=[10,20,30,40,-100,-20]\n",
    "print(MIN(List))\n",
    "print(MAX(List))"
   ]
  },
  {
   "cell_type": "code",
   "execution_count": 47,
   "id": "991d7c8a",
   "metadata": {},
   "outputs": [
    {
     "name": "stdout",
     "output_type": "stream",
     "text": [
      "4 -100\n"
     ]
    }
   ],
   "source": [
    "def MIN(L):\n",
    "    index=0\n",
    "    minVal=10000\n",
    "    for i in range(len(L)):\n",
    "        if L[i]<minVal:\n",
    "            minVal=L[i]\n",
    "            index=i\n",
    "    return index,minVal\n",
    "\n",
    "List=[10,20,30,40,-100,-20]\n",
    "i,minVal= MIN(List)\n",
    "print(i,minVal)"
   ]
  },
  {
   "cell_type": "code",
   "execution_count": 63,
   "id": "dc9463eb",
   "metadata": {},
   "outputs": [
    {
     "name": "stdout",
     "output_type": "stream",
     "text": [
      "[30, 40, 50, 0, 0]\n"
     ]
    }
   ],
   "source": [
    "def shiftLeft(L,k):\n",
    "    for j in range(k):\n",
    "        for i in range(len(L)-1):\n",
    "            L[i]=L[i+1]\n",
    "    for i in range(len(L)-1,k,-1):\n",
    "        L[i]=0\n",
    "    return L\n",
    "\n",
    "List22=[10,20,30,40,50]    \n",
    "new_List= shiftLeft(List22,2)\n",
    "#[20,30,40,50,0]\n",
    "\n",
    "print(new_List)"
   ]
  },
  {
   "cell_type": "code",
   "execution_count": 56,
   "id": "e66554ce",
   "metadata": {},
   "outputs": [
    {
     "name": "stdout",
     "output_type": "stream",
     "text": [
      "40\n",
      "30\n",
      "20\n",
      "10\n"
     ]
    }
   ],
   "source": [
    "List=[10,20,30,40]\n",
    "for i in range(len(List)-1,-1,-1):\n",
    "    print(List[i])"
   ]
  },
  {
   "cell_type": "code",
   "execution_count": null,
   "id": "44600ad7",
   "metadata": {},
   "outputs": [],
   "source": [
    "#Right shift\n",
    "temp=L[0]\n",
    "for i in range(len(L)):\n",
    "    L[i]=L[i+1]\n",
    "L[len(L)-1]=temp"
   ]
  }
 ],
 "metadata": {
  "kernelspec": {
   "display_name": "Python 3 (ipykernel)",
   "language": "python",
   "name": "python3"
  },
  "language_info": {
   "codemirror_mode": {
    "name": "ipython",
    "version": 3
   },
   "file_extension": ".py",
   "mimetype": "text/x-python",
   "name": "python",
   "nbconvert_exporter": "python",
   "pygments_lexer": "ipython3",
   "version": "3.9.13"
  }
 },
 "nbformat": 4,
 "nbformat_minor": 5
}
